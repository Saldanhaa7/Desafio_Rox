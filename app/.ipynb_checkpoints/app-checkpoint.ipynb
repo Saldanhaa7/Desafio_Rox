{
 "cells": [
  {
   "cell_type": "code",
   "execution_count": 30,
   "id": "2e68e819-1975-499e-b120-124facaf9c53",
   "metadata": {
    "tags": []
   },
   "outputs": [],
   "source": [
    "# importei o pandas para transformar o arquivo que estava em excel para csv \n",
    "import pandas as pd\n",
    "# importação do spark\n",
    "import pyspark\n",
    "from pyspark.sql import SparkSession\n",
    "from pyspark.sql.functions import col, count, month, to_date, sum"
   ]
  },
  {
   "cell_type": "code",
   "execution_count": 31,
   "id": "0f85e6a9-33f9-4c75-b88d-b94b8c448958",
   "metadata": {
    "tags": []
   },
   "outputs": [],
   "source": [
    "# Criando a sessão Spark\n",
    "spark = SparkSession.builder.appName(\"Desafio_Rox\").config(\"spark.jars.packages\", \"org.postgresql:postgresql:42.2.24\").getOrCreate()"
   ]
  },
  {
   "cell_type": "markdown",
   "id": "eb6b4b74-c110-4d9b-a714-a934f60a531c",
   "metadata": {
    "tags": []
   },
   "source": [
    "## Transformando o arquivo excel em csvtop_itens_pd"
   ]
  },
  {
   "cell_type": "code",
   "execution_count": 33,
   "id": "07df9891-2d3f-49aa-b604-f3436215fc6a",
   "metadata": {
    "tags": []
   },
   "outputs": [],
   "source": [
    "# lendo o arquivo excel\n",
    "read_file = pd.read_excel('./data/raw/sales_data.csv.xlsx')\n",
    "# Tranformando em csv\n",
    "read_file.to_csv(\"./data/refined/sales_data.csv\", index = None, header=True) "
   ]
  },
  {
   "cell_type": "code",
   "execution_count": 53,
   "id": "5dbd7fc4-0527-48a0-aa08-dece9bc0b261",
   "metadata": {
    "tags": []
   },
   "outputs": [],
   "source": [
    "# lendo o arquivo excel\n",
    "read_file = pd.read_excel('./data/raw/customer_data.xlsx')\n",
    "# Tranformando em csv\n",
    "read_file.to_csv(\"./data/refined/customer_data.csv\", index = None, header=True) "
   ]
  },
  {
   "cell_type": "markdown",
   "id": "015c49bb-3237-4192-ac8e-5beefa9c0daf",
   "metadata": {
    "tags": []
   },
   "source": [
    "## Começando a análise"
   ]
  },
  {
   "cell_type": "code",
   "execution_count": 36,
   "id": "ec209a72-66bc-4895-923c-4f7976604a61",
   "metadata": {
    "tags": []
   },
   "outputs": [],
   "source": [
    "# criando um dataframe no spark do sales_data\n",
    "data = spark.read.csv('./data/refined/sales_data.csv', header=True, inferSchema=True)"
   ]
  },
  {
   "cell_type": "code",
   "execution_count": 37,
   "id": "94796da0-770f-4187-8029-2c835ca9edf0",
   "metadata": {
    "tags": []
   },
   "outputs": [
    {
     "name": "stdout",
     "output_type": "stream",
     "text": [
      "+--------+------------+--------+----------+----------+-------------------+\n",
      "|order_id|product_name|quantity|unit_price|cliente_id|         order_date|\n",
      "+--------+------------+--------+----------+----------+-------------------+\n",
      "|       1|   Produto A|       3|        25|        74|2024-03-01 00:00:00|\n",
      "|       2|   Produto B|       2|        30|        36|2024-03-02 00:00:00|\n",
      "|       3|   Produto C|       1|        20|        12|2024-03-03 00:00:00|\n",
      "|       4|   Produto A|       4|        25|        92|2024-03-04 00:00:00|\n",
      "|       5|   Produto D|       2|        40|        55|2024-03-05 00:00:00|\n",
      "+--------+------------+--------+----------+----------+-------------------+\n",
      "only showing top 5 rows\n",
      "\n"
     ]
    }
   ],
   "source": [
    "# Exibindo as primeiras 5 linhas do dataframe para conferir se está tudo certo\n",
    "data.show(5)"
   ]
  },
  {
   "cell_type": "code",
   "execution_count": 38,
   "id": "306ef517-5fcf-4eb9-8b72-b71895ff5c20",
   "metadata": {
    "tags": []
   },
   "outputs": [
    {
     "name": "stdout",
     "output_type": "stream",
     "text": [
      "root\n",
      " |-- order_id: integer (nullable = true)\n",
      " |-- product_name: string (nullable = true)\n",
      " |-- quantity: integer (nullable = true)\n",
      " |-- unit_price: integer (nullable = true)\n",
      " |-- cliente_id: integer (nullable = true)\n",
      " |-- order_date: timestamp (nullable = true)\n",
      "\n"
     ]
    }
   ],
   "source": [
    "# vendo as informações gerais\n",
    "data.printSchema()"
   ]
  },
  {
   "cell_type": "code",
   "execution_count": 39,
   "id": "14da76d3-0660-45eb-94d2-c5f6ab8d2f85",
   "metadata": {
    "tags": []
   },
   "outputs": [
    {
     "name": "stdout",
     "output_type": "stream",
     "text": [
      "+-------+------------------+------------+------------------+-----------------+------------------+\n",
      "|summary|          order_id|product_name|          quantity|       unit_price|        cliente_id|\n",
      "+-------+------------------+------------+------------------+-----------------+------------------+\n",
      "|  count|               100|         100|               100|              100|               100|\n",
      "|   mean|              50.5|        null|              2.34|             28.6|             49.12|\n",
      "| stddev|29.011491975882016|        null|0.9766982102673242|7.353965466386694|29.403593541118624|\n",
      "|    min|                 1|   Produto A|                 1|               20|                 1|\n",
      "|    max|               100|   Produto D|                 4|               40|               100|\n",
      "+-------+------------------+------------+------------------+-----------------+------------------+\n",
      "\n"
     ]
    }
   ],
   "source": [
    "# vendo mais algumas informaões importantes\n",
    "data.describe().show()"
   ]
  },
  {
   "cell_type": "code",
   "execution_count": 40,
   "id": "dd3584bf-9c6d-4c83-b7af-4fdd2501417d",
   "metadata": {
    "tags": []
   },
   "outputs": [
    {
     "name": "stdout",
     "output_type": "stream",
     "text": [
      "+------------+-------------+\n",
      "|product_name|sum(quantity)|\n",
      "+------------+-------------+\n",
      "|   Produto A|           61|\n",
      "|   Produto B|           60|\n",
      "|   Produto C|           60|\n",
      "|   Produto D|           53|\n",
      "+------------+-------------+\n",
      "\n"
     ]
    }
   ],
   "source": [
    "# agrupando por produtos e agregando uma soma da coluna quantidades\n",
    "top_itens = data.groupBy('product_name').agg(sum('quantity'))\n",
    "# ordenando os resultados por ordem descendente para ficar melhor a visualização\n",
    "top_itens = top_itens.orderBy(col('sum(quantity)').desc())\n",
    "# mostrando os principais produtos\n",
    "top_itens.show()"
   ]
  },
  {
   "cell_type": "code",
   "execution_count": 41,
   "id": "1a5a8e00-7cd5-41a4-ae1f-ac68bd505cde",
   "metadata": {
    "tags": []
   },
   "outputs": [],
   "source": [
    "# adicionando uma coluna, que vai receber o resultado da multiplicação dos itens da coluna 'quantity' e da coluna 'unit_price'\n",
    "data_total_amount = data.withColumn('total_amount', col('quantity') * col('unit_price'))"
   ]
  },
  {
   "cell_type": "code",
   "execution_count": 42,
   "id": "6a305dda-c124-4cbb-a677-988f225d667d",
   "metadata": {
    "tags": []
   },
   "outputs": [
    {
     "name": "stdout",
     "output_type": "stream",
     "text": [
      "+--------+------------+--------+----------+----------+-------------------+------------+\n",
      "|order_id|product_name|quantity|unit_price|cliente_id|         order_date|total_amount|\n",
      "+--------+------------+--------+----------+----------+-------------------+------------+\n",
      "|       1|   Produto A|       3|        25|        74|2024-03-01 00:00:00|          75|\n",
      "|       2|   Produto B|       2|        30|        36|2024-03-02 00:00:00|          60|\n",
      "|       3|   Produto C|       1|        20|        12|2024-03-03 00:00:00|          20|\n",
      "|       4|   Produto A|       4|        25|        92|2024-03-04 00:00:00|         100|\n",
      "|       5|   Produto D|       2|        40|        55|2024-03-05 00:00:00|          80|\n",
      "|       6|   Produto B|       3|        30|        27|2024-03-06 00:00:00|          90|\n",
      "|       7|   Produto C|       2|        20|        83|2024-03-07 00:00:00|          40|\n",
      "|       8|   Produto A|       1|        25|        18|2024-03-08 00:00:00|          25|\n",
      "|       9|   Produto D|       3|        40|        42|2024-03-09 00:00:00|         120|\n",
      "|      10|   Produto A|       2|        25|         8|2024-03-10 00:00:00|          50|\n",
      "|      11|   Produto B|       1|        30|        57|2024-03-11 00:00:00|          30|\n",
      "|      12|   Produto C|       3|        20|        39|2024-03-12 00:00:00|          60|\n",
      "|      13|   Produto D|       1|        40|        95|2024-03-13 00:00:00|          40|\n",
      "|      14|   Produto A|       2|        25|        64|2024-03-14 00:00:00|          50|\n",
      "|      15|   Produto B|       4|        30|        12|2024-03-15 00:00:00|         120|\n",
      "|      16|   Produto C|       2|        20|        89|2024-03-16 00:00:00|          40|\n",
      "|      17|   Produto D|       3|        40|        45|2024-03-17 00:00:00|         120|\n",
      "|      18|   Produto A|       1|        25|        23|2024-03-18 00:00:00|          25|\n",
      "|      19|   Produto B|       2|        30|        71|2024-03-19 00:00:00|          60|\n",
      "|      20|   Produto C|       4|        20|        58|2024-03-20 00:00:00|          80|\n",
      "+--------+------------+--------+----------+----------+-------------------+------------+\n",
      "only showing top 20 rows\n",
      "\n"
     ]
    }
   ],
   "source": [
    "# mostrando o resultado\n",
    "data_total_amount.show()"
   ]
  },
  {
   "cell_type": "code",
   "execution_count": 43,
   "id": "956de364-756e-4fbc-811a-5ef87b62cbac",
   "metadata": {
    "tags": []
   },
   "outputs": [
    {
     "name": "stdout",
     "output_type": "stream",
     "text": [
      "+----------+-----------+\n",
      "|cliente_id|total_spent|\n",
      "+----------+-----------+\n",
      "|         8|        270|\n",
      "|        76|        250|\n",
      "|         6|        230|\n",
      "|        12|        220|\n",
      "|        50|        200|\n",
      "|        39|        200|\n",
      "|        42|        180|\n",
      "|        52|        170|\n",
      "|        45|        170|\n",
      "|        96|        160|\n",
      "+----------+-----------+\n",
      "only showing top 10 rows\n",
      "\n"
     ]
    }
   ],
   "source": [
    "# agrupando por cliente e calculando a soma do valor total dos pedidos\n",
    "top_customers = data_total_amount.groupBy('cliente_id').agg(sum('total_amount').alias('total_spent'))\n",
    "\n",
    "# ordenando os clientes pelo valor total gasto em ordem decrescente\n",
    "top_customers = top_customers.orderBy(col('total_spent').desc())\n",
    "\n",
    "# mostrando os top 10 clientes\n",
    "top_customers.show(10)"
   ]
  },
  {
   "cell_type": "markdown",
   "id": "0d3e1b9f-1779-434f-b546-c0107a0b6de7",
   "metadata": {
    "tags": []
   },
   "source": [
    "## Vizualização dos dados"
   ]
  },
  {
   "cell_type": "code",
   "execution_count": 47,
   "id": "beefa879-8575-4bef-90d8-05e3f0f18230",
   "metadata": {
    "tags": []
   },
   "outputs": [],
   "source": [
    "import matplotlib.pyplot as plt\n",
    "import seaborn as sns"
   ]
  },
  {
   "cell_type": "code",
   "execution_count": 52,
   "id": "9ab3a6ed-f265-43e7-b7ef-1bd80efb1788",
   "metadata": {
    "tags": []
   },
   "outputs": [
    {
     "data": {
      "image/png": "[encoded data removed]",
      "text/plain": [
       "<Figure size 800x800 with 1 Axes>"
      ]
     },
     "metadata": {},
     "output_type": "display_data"
    }
   ],
   "source": [
    "top_itens_pd = top_itens.toPandas()\n",
    "\n",
    "plt.figure(figsize=(8, 8))\n",
    "plt.pie(top_itens_pd['sum(quantity)'], labels=top_itens_pd['product_name'], autopct='%1.1f%%', startangle=140)\n",
    "plt.axis('equal')  # Equal aspect ratio ensures that pie is drawn as a circle.\n",
    "plt.title('Quantidade de Produtos Vendidos')\n",
    "plt.show()"
   ]
  },
  {
   "cell_type": "code",
   "execution_count": 51,
   "id": "642c7498-da72-4485-8e26-bc80c2a7134e",
   "metadata": {
    "tags": []
   },
   "outputs": [
    {
     "data": {
      "image/png": "[encoded data removed]",
      "text/plain": [
       "<Figure size 1200x600 with 1 Axes>"
      ]
     },
     "metadata": {},
     "output_type": "display_data"
    }
   ],
   "source": [
    "top_customers_pd = top_customers.limit(10).toPandas()\n",
    "\n",
    "# Visualizar os top 10 clientes\n",
    "plt.figure(figsize=(12, 6))\n",
    "sns.barplot(x='cliente_id', y='total_spent', data=top_customers_pd)\n",
    "plt.title('Top 10 Clientes por Valor Total Gasto')\n",
    "plt.xlabel('ID do Cliente')\n",
    "plt.ylabel('Valor Total Gasto')\n",
    "plt.xticks(rotation=45)\n",
    "plt.show()"
   ]
  },
  {
   "cell_type": "markdown",
   "id": "db5df939-c997-4cfb-aa2c-6dcdd1e2fa33",
   "metadata": {
    "tags": []
   },
   "source": [
    "## Fazendo a Transformação de Dados"
   ]
  },
  {
   "cell_type": "code",
   "execution_count": 55,
   "id": "cace3123-4198-4448-b835-c89145372af9",
   "metadata": {
    "tags": []
   },
   "outputs": [
    {
     "name": "stdout",
     "output_type": "stream",
     "text": [
      "+----------+------+---------+--------------------+--------------+--------------------+------+\n",
      "|id_cliente|  nome|sobrenome|               email|      telefone|            endereço|numero|\n",
      "+----------+------+---------+--------------------+--------------+--------------------+------+\n",
      "|         1|  João|    Silva|joao.silva@email.com|(11) 1234-5678|      Rua das Flores|   123|\n",
      "|         2| Maria|   Santos|maria.santos@emai...|(11) 2345-6789|   Avenida Principal|   456|\n",
      "|         3|Carlos|    Rocha|carlos.rocha@emai...|(11) 3456-7890|Travessa das Árvores|   789|\n",
      "|         4|   Ana|    Costa| ana.costa@email.com|(11) 4567-8901| Rua dos Passarinhos|   987|\n",
      "|         5|  Luiz| Oliveira|luiz.oliveira@ema...|(11) 5678-9012|   Alameda das Rosas|   654|\n",
      "+----------+------+---------+--------------------+--------------+--------------------+------+\n",
      "only showing top 5 rows\n",
      "\n"
     ]
    }
   ],
   "source": [
    "# lendo os arquivo costumer_data em csv \n",
    "costumer_data = spark.read.csv('./data/refined/customer_data.csv', header=True, inferSchema=True)\n",
    "# mostrando os primeiros dados para encontrar dados em comum ao sales_data\n",
    "costumer_data.show(5)"
   ]
  },
  {
   "cell_type": "code",
   "execution_count": 56,
   "id": "75600463-e3e0-4ab6-bf93-c23770e973d5",
   "metadata": {
    "tags": []
   },
   "outputs": [
    {
     "name": "stdout",
     "output_type": "stream",
     "text": [
      "+--------+------------+--------+----------+----------+-------------------+--------+---------+--------------------------+--------------+-----------------------+------+\n",
      "|order_id|product_name|quantity|unit_price|cliente_id|order_date         |nome    |sobrenome|email                     |telefone      |endereço               |numero|\n",
      "+--------+------------+--------+----------+----------+-------------------+--------+---------+--------------------------+--------------+-----------------------+------+\n",
      "|56      |Produto C   |2       |20        |1         |2024-04-25 00:00:00|João    |Silva    |joao.silva@email.com      |(11) 1234-5678|Rua das Flores         |123   |\n",
      "|51      |Produto B   |3       |30        |2         |2024-04-20 00:00:00|Maria   |Santos   |maria.santos@email.com    |(11) 2345-6789|Avenida Principal      |456   |\n",
      "|88      |Produto C   |1       |20        |3         |2024-05-27 00:00:00|Carlos  |Rocha    |carlos.rocha@email.com    |(11) 3456-7890|Travessa das Árvores   |789   |\n",
      "|35      |Produto B   |4       |30        |3         |2024-04-04 00:00:00|Carlos  |Rocha    |carlos.rocha@email.com    |(11) 3456-7890|Travessa das Árvores   |789   |\n",
      "|37      |Produto D   |3       |40        |4         |2024-04-06 00:00:00|Ana     |Costa    |ana.costa@email.com       |(11) 4567-8901|Rua dos Passarinhos    |987   |\n",
      "|95      |Produto B   |4       |30        |6         |2024-06-03 00:00:00|Juliana |Almeida  |juliana.almeida@email.com |(11) 6789-0123|Quadra 2               |321   |\n",
      "|83      |Produto B   |1       |30        |6         |2024-05-22 00:00:00|Juliana |Almeida  |juliana.almeida@email.com |(11) 6789-0123|Quadra 2               |321   |\n",
      "|21      |Produto D   |2       |40        |6         |2024-03-21 00:00:00|Juliana |Almeida  |juliana.almeida@email.com |(11) 6789-0123|Quadra 2               |321   |\n",
      "|77      |Produto D   |3       |40        |8         |2024-05-16 00:00:00|André   |Campos   |andre.campos@email.com    |(11) 8901-2345|Rua das Palmeiras      |987   |\n",
      "|46      |Produto A   |4       |25        |8         |2024-04-15 00:00:00|André   |Campos   |andre.campos@email.com    |(11) 8901-2345|Rua das Palmeiras      |987   |\n",
      "|10      |Produto A   |2       |25        |8         |2024-03-10 00:00:00|André   |Campos   |andre.campos@email.com    |(11) 8901-2345|Rua das Palmeiras      |987   |\n",
      "|64      |Produto C   |3       |20        |10        |2024-05-03 00:00:00|Aline   |Carvalho |aline.carvalho@email.com  |(11) 0123-4567|Alameda das Orquídeas  |321   |\n",
      "|85      |Produto D   |2       |40        |11        |2024-05-24 00:00:00|Ricardo |Ferreira |ricardo.ferreira@email.com|(11) 1234-5678|Rua das Begônias       |789   |\n",
      "|80      |Produto C   |4       |20        |12        |2024-05-19 00:00:00|Beatriz |Martins  |beatriz.martins@email.com |(11) 2345-6789|Avenida dos Lírios     |987   |\n",
      "|15      |Produto B   |4       |30        |12        |2024-03-15 00:00:00|Beatriz |Martins  |beatriz.martins@email.com |(11) 2345-6789|Avenida dos Lírios     |987   |\n",
      "|3       |Produto C   |1       |20        |12        |2024-03-03 00:00:00|Beatriz |Martins  |beatriz.martins@email.com |(11) 2345-6789|Avenida dos Lírios     |987   |\n",
      "|69      |Produto D   |3       |40        |13        |2024-05-08 00:00:00|Lucas   |Gomes    |lucas.gomes@email.com     |(11) 3456-7890|Travessa das Margaridas|654   |\n",
      "|28      |Produto C   |1       |20        |14        |2024-03-28 00:00:00|Marcia  |Lima     |marcia.lima@email.com     |(11) 4567-8901|Rua das Violetas       |321   |\n",
      "|44      |Produto C   |3       |20        |15        |2024-04-13 00:00:00|Marcos  |Barbosa  |marcos.barbosa@email.com  |(11) 5678-9012|Alameda dos Cravos     |789   |\n",
      "|8       |Produto A   |1       |25        |18        |2024-03-08 00:00:00|Carolina|Sousa    |carolina.sousa@email.com  |(11) 8901-2345|Rua dos Ipês           |321   |\n",
      "+--------+------------+--------+----------+----------+-------------------+--------+---------+--------------------------+--------------+-----------------------+------+\n",
      "only showing top 20 rows\n",
      "\n"
     ]
    }
   ],
   "source": [
    "# fazendo a junção dos dois arquivos por meio de um inner join\n",
    "df_unido = (\n",
    "    data\n",
    "    .join(costumer_data, data.cliente_id == costumer_data.id_cliente, 'inner')\n",
    "    .drop(costumer_data.id_cliente))\n",
    "df_unido.show(truncate=False)"
   ]
  },
  {
   "cell_type": "markdown",
   "id": "9ed94b60-4ade-433b-8bee-4d32cc0bb6a9",
   "metadata": {
    "tags": []
   },
   "source": [
    "## Carregando os dados no banco de dados"
   ]
  },
  {
   "cell_type": "code",
   "execution_count": 57,
   "id": "8dae5235-40d8-45ea-848f-7adf10f125c8",
   "metadata": {
    "tags": []
   },
   "outputs": [],
   "source": [
    "# tirando o 'ç' para seguir as normas de boa pratica\n",
    "df_unido = df_unido.withColumnRenamed(\"endereço\", \"endereco\")"
   ]
  },
  {
   "cell_type": "code",
   "execution_count": 58,
   "id": "131fec06-aa8e-4981-bf71-42cc1c36022c",
   "metadata": {
    "tags": []
   },
   "outputs": [],
   "source": [
    "# fazendo a inserção no banco de dados\n",
    "(\n",
    "    df_unido.write\n",
    "    .format(\"jdbc\")\n",
    "    .option(\"driver\", \"org.postgresql.Driver\")\n",
    "    .option(\"url\", \"jdbc:postgresql://postgres:5432/Rox?user=admin-rox&password=testeBruno\")\n",
    "    .option(\"dbtable\", \"arquivos_unidos\")\n",
    "    .save()\n",
    ")"
   ]
  },
  {
   "cell_type": "code",
   "execution_count": 61,
   "id": "d8269b53-817b-4ad7-96b8-87d8aefd6001",
   "metadata": {
    "tags": []
   },
   "outputs": [
    {
     "name": "stdout",
     "output_type": "stream",
     "text": [
      "+--------+------------+--------+----------+----------+-------------------+--------+---------+--------------------+--------------+--------------------+------+\n",
      "|order_id|product_name|quantity|unit_price|cliente_id|         order_date|    nome|sobrenome|               email|      telefone|            endereco|numero|\n",
      "+--------+------------+--------+----------+----------+-------------------+--------+---------+--------------------+--------------+--------------------+------+\n",
      "|      56|   Produto C|       2|        20|         1|2024-04-25 00:00:00|    João|    Silva|joao.silva@email.com|(11) 1234-5678|      Rua das Flores|   123|\n",
      "|      51|   Produto B|       3|        30|         2|2024-04-20 00:00:00|   Maria|   Santos|maria.santos@emai...|(11) 2345-6789|   Avenida Principal|   456|\n",
      "|      88|   Produto C|       1|        20|         3|2024-05-27 00:00:00|  Carlos|    Rocha|carlos.rocha@emai...|(11) 3456-7890|Travessa das Árvores|   789|\n",
      "|      35|   Produto B|       4|        30|         3|2024-04-04 00:00:00|  Carlos|    Rocha|carlos.rocha@emai...|(11) 3456-7890|Travessa das Árvores|   789|\n",
      "|      37|   Produto D|       3|        40|         4|2024-04-06 00:00:00|     Ana|    Costa| ana.costa@email.com|(11) 4567-8901| Rua dos Passarinhos|   987|\n",
      "|      95|   Produto B|       4|        30|         6|2024-06-03 00:00:00| Juliana|  Almeida|juliana.almeida@e...|(11) 6789-0123|            Quadra 2|   321|\n",
      "|      83|   Produto B|       1|        30|         6|2024-05-22 00:00:00| Juliana|  Almeida|juliana.almeida@e...|(11) 6789-0123|            Quadra 2|   321|\n",
      "|      21|   Produto D|       2|        40|         6|2024-03-21 00:00:00| Juliana|  Almeida|juliana.almeida@e...|(11) 6789-0123|            Quadra 2|   321|\n",
      "|      77|   Produto D|       3|        40|         8|2024-05-16 00:00:00|   André|   Campos|andre.campos@emai...|(11) 8901-2345|   Rua das Palmeiras|   987|\n",
      "|      46|   Produto A|       4|        25|         8|2024-04-15 00:00:00|   André|   Campos|andre.campos@emai...|(11) 8901-2345|   Rua das Palmeiras|   987|\n",
      "|      10|   Produto A|       2|        25|         8|2024-03-10 00:00:00|   André|   Campos|andre.campos@emai...|(11) 8901-2345|   Rua das Palmeiras|   987|\n",
      "|      64|   Produto C|       3|        20|        10|2024-05-03 00:00:00|   Aline| Carvalho|aline.carvalho@em...|(11) 0123-4567|Alameda das Orquí...|   321|\n",
      "|      85|   Produto D|       2|        40|        11|2024-05-24 00:00:00| Ricardo| Ferreira|ricardo.ferreira@...|(11) 1234-5678|    Rua das Begônias|   789|\n",
      "|      80|   Produto C|       4|        20|        12|2024-05-19 00:00:00| Beatriz|  Martins|beatriz.martins@e...|(11) 2345-6789|  Avenida dos Lírios|   987|\n",
      "|      15|   Produto B|       4|        30|        12|2024-03-15 00:00:00| Beatriz|  Martins|beatriz.martins@e...|(11) 2345-6789|  Avenida dos Lírios|   987|\n",
      "|       3|   Produto C|       1|        20|        12|2024-03-03 00:00:00| Beatriz|  Martins|beatriz.martins@e...|(11) 2345-6789|  Avenida dos Lírios|   987|\n",
      "|      69|   Produto D|       3|        40|        13|2024-05-08 00:00:00|   Lucas|    Gomes|lucas.gomes@email...|(11) 3456-7890|Travessa das Marg...|   654|\n",
      "|      28|   Produto C|       1|        20|        14|2024-03-28 00:00:00|  Marcia|     Lima|marcia.lima@email...|(11) 4567-8901|    Rua das Violetas|   321|\n",
      "|      44|   Produto C|       3|        20|        15|2024-04-13 00:00:00|  Marcos|  Barbosa|marcos.barbosa@em...|(11) 5678-9012|  Alameda dos Cravos|   789|\n",
      "|       8|   Produto A|       1|        25|        18|2024-03-08 00:00:00|Carolina|    Sousa|carolina.sousa@em...|(11) 8901-2345|        Rua dos Ipês|   321|\n",
      "+--------+------------+--------+----------+----------+-------------------+--------+---------+--------------------+--------------+--------------------+------+\n",
      "only showing top 20 rows\n",
      "\n"
     ]
    }
   ],
   "source": [
    "# fazendo a conferência para ver se está tudo certo\n",
    "df = (\n",
    "    spark.read\n",
    "    .format(\"jdbc\")\n",
    "    .option(\"driver\", \"org.postgresql.Driver\")\n",
    "    .option(\"url\", \"jdbc:postgresql://postgres:5432/Rox?user=admin-rox&password=testeBruno\")\n",
    "    .option(\"dbtable\", \"arquivos_unidos\")\n",
    "    .load()\n",
    ")\n",
    "\n",
    "# exibindo os dados lidos do banco de dados\n",
    "df.show()"
   ]
  }
 ],
 "metadata": {
  "kernelspec": {
   "display_name": "Python 3 (ipykernel)",
   "language": "python",
   "name": "python3"
  },
  "language_info": {
   "codemirror_mode": {
    "name": "ipython",
    "version": 3
   },
   "file_extension": ".py",
   "mimetype": "text/x-python",
   "name": "python",
   "nbconvert_exporter": "python",
   "pygments_lexer": "ipython3",
   "version": "3.10.10"
  }
 },
 "nbformat": 4,
 "nbformat_minor": 5
}
